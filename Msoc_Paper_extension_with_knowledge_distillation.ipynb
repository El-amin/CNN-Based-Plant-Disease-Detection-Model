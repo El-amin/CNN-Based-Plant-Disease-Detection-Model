{
  "cells": [
    {
      "cell_type": "markdown",
      "metadata": {
        "id": "view-in-github",
        "colab_type": "text"
      },
      "source": [
        "<a href=\"https://colab.research.google.com/github/El-amin/CNN-Based-Plant-Disease-Detection-Model/blob/main/Msoc_Paper_extension_with_knowledge_distillation.ipynb\" target=\"_parent\"><img src=\"https://colab.research.google.com/assets/colab-badge.svg\" alt=\"Open In Colab\"/></a>"
      ]
    },
    {
      "cell_type": "markdown",
      "metadata": {
        "id": "PNytzoNO_thi"
      },
      "source": [
        "# Knowledge Distillation\n",
        "\n",
        "**Author:** [Aminu Musa]\n",
        "**Date created:** 2022/09/01<br>\n",
        "**Last modified:** 2020/09/01<br>\n",
        "**Description:** Plant disease detection With Knowledge Distillation Technique."
      ]
    },
    {
      "cell_type": "code",
      "execution_count": null,
      "metadata": {
        "id": "HWdt2AH5_tht"
      },
      "outputs": [],
      "source": [
        "import os\n",
        "import pickle\n",
        "import zipfile\n",
        "import random\n",
        "import tensorflow as tf\n",
        "from tensorflow import keras\n",
        "from tensorflow.keras import layers\n",
        "from tensorflow.keras.optimizers import RMSprop\n",
        "from tensorflow.keras.preprocessing.image import ImageDataGenerator\n",
        "from shutil import copyfile\n",
        "import numpy as np\n",
        "from tensorflow.keras.models import Sequential\n",
        "from tensorflow.keras.layers import (\n",
        "    BatchNormalization, Conv2D, MaxPooling2D, Activation, Flatten, Dropout, Dense\n",
        ")\n",
        "from tensorflow.keras import backend as K\n",
        "from sklearn.preprocessing import LabelBinarizer\n"
      ]
    },
    {
      "cell_type": "markdown",
      "metadata": {
        "id": "9NYk6d4w_thu"
      },
      "source": [
        "## Construct `Distiller()` class\n",
        "\n",
        "The custom `Distiller()` class, overrides the `Model` methods `train_step`, `test_step`,\n",
        "and `compile()`. In order to use the distiller, we need:\n",
        "\n",
        "- A trained teacher model\n",
        "- A student model to train\n",
        "- A student loss function on the difference between student predictions and ground-truth\n",
        "- A distillation loss function, along with a `temperature`, on the difference between the\n",
        "soft student predictions and the soft teacher labels\n",
        "- An `alpha` factor to weight the student and distillation loss\n",
        "- An optimizer for the student and (optional) metrics to evaluate performance\n",
        "\n",
        "In the `train_step` method, we perform a forward pass of both the teacher and student,\n",
        "calculate the loss with weighting of the `student_loss` and `distillation_loss` by `alpha` and\n",
        "`1 - alpha`, respectively, and perform the backward pass. Note: only the student weights are updated,\n",
        "and therefore we only calculate the gradients for the student weights.\n",
        "\n",
        "In the `test_step` method, we evaluate the student model on the provided dataset."
      ]
    },
    {
      "cell_type": "code",
      "execution_count": null,
      "metadata": {
        "id": "kFQyytXV_thv"
      },
      "outputs": [],
      "source": [
        "\n",
        "class Distiller(keras.Model):\n",
        "    def __init__(self, student, teacher):\n",
        "        super(Distiller, self).__init__()\n",
        "        self.teacher = teacher\n",
        "        self.student = student\n",
        "\n",
        "    def compile(\n",
        "        self,\n",
        "        optimizer,\n",
        "        metrics,\n",
        "        student_loss_fn,\n",
        "        distillation_loss_fn,\n",
        "        alpha=0.1,\n",
        "        temperature=3,\n",
        "    ):\n",
        "        \"\"\" Configure the distiller.\n",
        "\n",
        "        Args:\n",
        "            optimizer: Keras optimizer for the student weights\n",
        "            metrics: Keras metrics for evaluation\n",
        "            student_loss_fn: Loss function of difference between student\n",
        "                predictions and ground-truth\n",
        "            distillation_loss_fn: Loss function of difference between soft\n",
        "                student predictions and soft teacher predictions\n",
        "            alpha: weight to student_loss_fn and 1-alpha to distillation_loss_fn\n",
        "            temperature: Temperature for softening probability distributions.\n",
        "                Larger temperature gives softer distributions.\n",
        "        \"\"\"\n",
        "        super(Distiller, self).compile(optimizer=optimizer, metrics=metrics)\n",
        "        self.student_loss_fn = student_loss_fn\n",
        "        self.distillation_loss_fn = distillation_loss_fn\n",
        "        self.alpha = alpha\n",
        "        self.temperature = temperature\n",
        "\n",
        "    def train_step(self, data):\n",
        "        # Unpack data\n",
        "        x, y = data\n",
        "\n",
        "        # Forward pass of teacher\n",
        "        teacher_predictions = self.teacher(x, training=False)\n",
        "\n",
        "        with tf.GradientTape() as tape:\n",
        "            # Forward pass of student\n",
        "            student_predictions = self.student(x, training=True)\n",
        "\n",
        "            # Compute losses\n",
        "            student_loss = self.student_loss_fn(y, student_predictions)\n",
        "            distillation_loss = self.distillation_loss_fn(\n",
        "                tf.nn.softmax(teacher_predictions / self.temperature, axis=1),\n",
        "                tf.nn.softmax(student_predictions / self.temperature, axis=1),\n",
        "            )\n",
        "            loss = self.alpha * student_loss + (1 - self.alpha) * distillation_loss\n",
        "\n",
        "        # Compute gradients\n",
        "        trainable_vars = self.student.trainable_variables\n",
        "        gradients = tape.gradient(loss, trainable_vars)\n",
        "\n",
        "        # Update weights\n",
        "        self.optimizer.apply_gradients(zip(gradients, trainable_vars))\n",
        "\n",
        "        # Update the metrics configured in `compile()`.\n",
        "        self.compiled_metrics.update_state(y, student_predictions)\n",
        "\n",
        "        # Return a dict of performance\n",
        "        results = {m.name: m.result() for m in self.metrics}\n",
        "        results.update(\n",
        "            {\"student_loss\": student_loss, \"distillation_loss\": distillation_loss}\n",
        "        )\n",
        "        return results\n",
        "\n",
        "    def test_step(self, data):\n",
        "        # Unpack the data\n",
        "        x, y = data\n",
        "\n",
        "        # Compute predictions\n",
        "        y_prediction = self.student(x, training=False)\n",
        "\n",
        "        # Calculate the loss\n",
        "        student_loss = self.student_loss_fn(y, y_prediction)\n",
        "\n",
        "        # Update the metrics.\n",
        "        self.compiled_metrics.update_state(y, y_prediction)\n",
        "\n",
        "        # Return a dict of performance\n",
        "        results = {m.name: m.result() for m in self.metrics}\n",
        "        results.update({\"student_loss\": student_loss})\n",
        "        return results\n"
      ]
    },
    {
      "cell_type": "code",
      "execution_count": null,
      "metadata": {
        "colab": {
          "base_uri": "https://localhost:8080/"
        },
        "id": "XlZ_-zOrLAj-",
        "outputId": "c83f1b00-78dd-4b08-9c4b-0661815002d5"
      },
      "outputs": [
        {
          "output_type": "stream",
          "name": "stdout",
          "text": [
            "Mounted at /content/drive\n"
          ]
        }
      ],
      "source": [
        "from google.colab import drive\n",
        "drive.mount('/content/drive')"
      ]
    },
    {
      "cell_type": "code",
      "execution_count": null,
      "metadata": {
        "id": "riJ5hIYkKOBa"
      },
      "outputs": [],
      "source": [
        "!mkdir 'Road_dataset'"
      ]
    },
    {
      "cell_type": "code",
      "execution_count": null,
      "metadata": {
        "id": "qhfoipB-Igep"
      },
      "outputs": [],
      "source": [
        "local_zip = '/content/drive/MyDrive/Msoc/PlantVillage.zip'\n",
        "zip_ref   = zipfile.ZipFile(local_zip, 'r')\n",
        "zip_ref.extractall('/Road_dataset')\n",
        "zip_ref.close()\n"
      ]
    },
    {
      "cell_type": "code",
      "execution_count": null,
      "metadata": {
        "colab": {
          "base_uri": "https://localhost:8080/"
        },
        "id": "JOoCrrVqStdP",
        "outputId": "99c7f1fd-4bbd-4e53-f1d5-95e53e608738"
      },
      "outputs": [
        {
          "output_type": "stream",
          "name": "stdout",
          "text": [
            "Found 44016 images belonging to 39 classes.\n",
            "Found 11004 images belonging to 39 classes.\n"
          ]
        }
      ],
      "source": [
        "TRAINING_DIR = \"/msoc/PlantVillage/train/\"\n",
        "train_datagen = ImageDataGenerator(rescale=1.0/255\n",
        "                \n",
        "               )\n",
        "train_generator = train_datagen.flow_from_directory(TRAINING_DIR,\n",
        "                                                    class_mode='categorical',\n",
        "                                                    batch_size=250,\n",
        "                                                    target_size=(250, 250))\n",
        "\n",
        "VALIDATION_DIR = \"/msoc/PlantVillage/val/\"\n",
        "validation_datagen = ImageDataGenerator(rescale=1.0/255.)\n",
        "validation_generator = validation_datagen.flow_from_directory(VALIDATION_DIR,\n",
        "                                                              class_mode='categorical',\n",
        "                                                              batch_size=250,\n",
        "                                                              target_size=(250, 250))"
      ]
    },
    {
      "cell_type": "code",
      "execution_count": null,
      "metadata": {
        "id": "pbPmmxL9ImdX"
      },
      "outputs": [],
      "source": [
        "train_y=train_generator.classes\n"
      ]
    },
    {
      "cell_type": "code",
      "execution_count": null,
      "metadata": {
        "id": "0wgaFsbXB7Wz"
      },
      "outputs": [],
      "source": [
        "label_binarizer = LabelBinarizer()\n",
        "image_labels = label_binarizer.fit_transform(train_y)\n",
        "pickle.dump(label_binarizer,open('label_transform.pkl', 'wb'))\n",
        "n_classes = len(label_binarizer.classes_)"
      ]
    },
    {
      "cell_type": "markdown",
      "metadata": {
        "id": "0FEs8I3n_thy"
      },
      "source": [
        "## Create student and teacher models\n",
        "\n",
        "Initialy, we create a teacher model and a smaller student model. Both models are\n",
        "convolutional neural networks and created using `Sequential()`,\n",
        "but could be any Keras model."
      ]
    },
    {
      "cell_type": "code",
      "execution_count": null,
      "metadata": {
        "id": "3QxuJlS7_thz"
      },
      "outputs": [],
      "source": [
        "# Create the teacher\n",
        "teacher = keras.Sequential(name=\"teacher\",)\n",
        "inputShape = (250, 250, 3)\n",
        "chanDim = -1\n",
        "if K.image_data_format() == \"channels_first\":\n",
        "           inputShape = (3, 250, 250)\n",
        "           chanDim = 1\n",
        "teacher.add(Conv2D(32, (3, 3), padding=\"same\",input_shape=inputShape))\n",
        "teacher.add(Activation(\"relu\"))\n",
        "teacher.add(BatchNormalization(axis=chanDim))\n",
        "teacher.add(MaxPooling2D(pool_size=(3, 3)))\n",
        "teacher.add(Dropout(0.25))\n",
        "teacher.add(Conv2D(64, (3, 3), padding=\"same\"))\n",
        "teacher.add(Activation(\"relu\"))\n",
        "teacher.add(BatchNormalization(axis=chanDim))\n",
        "teacher.add(Conv2D(64, (3, 3), padding=\"same\"))\n",
        "teacher.add(Activation(\"relu\"))\n",
        "teacher.add(BatchNormalization(axis=chanDim))\n",
        "teacher.add(MaxPooling2D(pool_size=(2, 2)))\n",
        "teacher.add(Dropout(0.25))\n",
        "teacher.add(Conv2D(128, (3, 3), padding=\"same\"))\n",
        "teacher.add(Activation(\"relu\"))\n",
        "teacher.add(BatchNormalization(axis=chanDim))\n",
        "teacher.add(Conv2D(128, (3, 3), padding=\"same\"))\n",
        "teacher.add(Activation(\"relu\"))\n",
        "teacher.add(BatchNormalization(axis=chanDim))\n",
        "teacher.add(MaxPooling2D(pool_size=(2, 2)))\n",
        "teacher.add(Dropout(0.25))\n",
        "teacher.add(Flatten())\n",
        "teacher.add(Dense(1024))\n",
        "teacher.add(Activation(\"relu\"))\n",
        "teacher.add(BatchNormalization())\n",
        "teacher.add(Dropout(0.5))\n",
        "teacher.add(Dense(n_classes))\n",
        "\n",
        "\n",
        "# Create the student\n",
        "student = keras.Sequential(\n",
        "    [\n",
        "        keras.Input(shape=(250, 250, 3)),\n",
        "        layers.Conv2D(16, (3, 3), strides=(2, 2), padding=\"same\"),\n",
        "        layers.LeakyReLU(alpha=0.2),\n",
        "        layers.MaxPooling2D(pool_size=(2, 2), strides=(1, 1), padding=\"same\"),\n",
        "        layers.Conv2D(32, (3, 3), strides=(2, 2), padding=\"same\"),\n",
        "        layers.LeakyReLU(alpha=0.2),\n",
        "        layers.MaxPooling2D(pool_size=(2, 2), strides=(2, 2), padding=\"same\"),\n",
        "        layers.Flatten(),\n",
        "        layers.Dense(n_classes),\n",
        "    ],\n",
        "    name=\"student\",\n",
        ")\n",
        "\n",
        "# Clone student for later comparison\n",
        "student_scratch = keras.models.clone_model(student)"
      ]
    },
    {
      "cell_type": "code",
      "execution_count": null,
      "metadata": {
        "colab": {
          "base_uri": "https://localhost:8080/"
        },
        "id": "lWoEqv4dy0I8",
        "outputId": "1819c477-0695-486e-f852-4392aa33e67c"
      },
      "outputs": [
        {
          "name": "stdout",
          "output_type": "stream",
          "text": [
            "Model: \"teacher\"\n",
            "_________________________________________________________________\n",
            " Layer (type)                Output Shape              Param #   \n",
            "=================================================================\n",
            " conv2d (Conv2D)             (None, 250, 250, 32)      896       \n",
            "                                                                 \n",
            " activation (Activation)     (None, 250, 250, 32)      0         \n",
            "                                                                 \n",
            " batch_normalization (BatchN  (None, 250, 250, 32)     128       \n",
            " ormalization)                                                   \n",
            "                                                                 \n",
            " max_pooling2d (MaxPooling2D  (None, 83, 83, 32)       0         \n",
            " )                                                               \n",
            "                                                                 \n",
            " dropout (Dropout)           (None, 83, 83, 32)        0         \n",
            "                                                                 \n",
            " conv2d_1 (Conv2D)           (None, 83, 83, 64)        18496     \n",
            "                                                                 \n",
            " activation_1 (Activation)   (None, 83, 83, 64)        0         \n",
            "                                                                 \n",
            " batch_normalization_1 (Batc  (None, 83, 83, 64)       256       \n",
            " hNormalization)                                                 \n",
            "                                                                 \n",
            " conv2d_2 (Conv2D)           (None, 83, 83, 64)        36928     \n",
            "                                                                 \n",
            " activation_2 (Activation)   (None, 83, 83, 64)        0         \n",
            "                                                                 \n",
            " batch_normalization_2 (Batc  (None, 83, 83, 64)       256       \n",
            " hNormalization)                                                 \n",
            "                                                                 \n",
            " max_pooling2d_1 (MaxPooling  (None, 41, 41, 64)       0         \n",
            " 2D)                                                             \n",
            "                                                                 \n",
            " dropout_1 (Dropout)         (None, 41, 41, 64)        0         \n",
            "                                                                 \n",
            " conv2d_3 (Conv2D)           (None, 41, 41, 128)       73856     \n",
            "                                                                 \n",
            " activation_3 (Activation)   (None, 41, 41, 128)       0         \n",
            "                                                                 \n",
            " batch_normalization_3 (Batc  (None, 41, 41, 128)      512       \n",
            " hNormalization)                                                 \n",
            "                                                                 \n",
            " conv2d_4 (Conv2D)           (None, 41, 41, 128)       147584    \n",
            "                                                                 \n",
            " activation_4 (Activation)   (None, 41, 41, 128)       0         \n",
            "                                                                 \n",
            " batch_normalization_4 (Batc  (None, 41, 41, 128)      512       \n",
            " hNormalization)                                                 \n",
            "                                                                 \n",
            " max_pooling2d_2 (MaxPooling  (None, 20, 20, 128)      0         \n",
            " 2D)                                                             \n",
            "                                                                 \n",
            " dropout_2 (Dropout)         (None, 20, 20, 128)       0         \n",
            "                                                                 \n",
            " flatten (Flatten)           (None, 51200)             0         \n",
            "                                                                 \n",
            " dense (Dense)               (None, 1024)              52429824  \n",
            "                                                                 \n",
            " activation_5 (Activation)   (None, 1024)              0         \n",
            "                                                                 \n",
            " batch_normalization_5 (Batc  (None, 1024)             4096      \n",
            " hNormalization)                                                 \n",
            "                                                                 \n",
            " dropout_3 (Dropout)         (None, 1024)              0         \n",
            "                                                                 \n",
            " dense_1 (Dense)             (None, 39)                39975     \n",
            "                                                                 \n",
            "=================================================================\n",
            "Total params: 52,753,319\n",
            "Trainable params: 52,750,439\n",
            "Non-trainable params: 2,880\n",
            "_________________________________________________________________\n"
          ]
        }
      ],
      "source": [
        "teacher.summary()"
      ]
    },
    {
      "cell_type": "code",
      "execution_count": null,
      "metadata": {
        "colab": {
          "base_uri": "https://localhost:8080/"
        },
        "id": "75mHBinGy0Mi",
        "outputId": "3fcffc51-96e0-45b8-dfc3-b721447ae068"
      },
      "outputs": [
        {
          "name": "stdout",
          "output_type": "stream",
          "text": [
            "Model: \"teacher\"\n",
            "_________________________________________________________________\n",
            " Layer (type)                Output Shape              Param #   \n",
            "=================================================================\n",
            " conv2d_5 (Conv2D)           (None, 250, 250, 32)      896       \n",
            "                                                                 \n",
            " activation_6 (Activation)   (None, 250, 250, 32)      0         \n",
            "                                                                 \n",
            " batch_normalization_6 (Batc  (None, 250, 250, 32)     128       \n",
            " hNormalization)                                                 \n",
            "                                                                 \n",
            " max_pooling2d_3 (MaxPooling  (None, 83, 83, 32)       0         \n",
            " 2D)                                                             \n",
            "                                                                 \n",
            " dropout_4 (Dropout)         (None, 83, 83, 32)        0         \n",
            "                                                                 \n",
            " conv2d_6 (Conv2D)           (None, 83, 83, 64)        18496     \n",
            "                                                                 \n",
            " activation_7 (Activation)   (None, 83, 83, 64)        0         \n",
            "                                                                 \n",
            " batch_normalization_7 (Batc  (None, 83, 83, 64)       256       \n",
            " hNormalization)                                                 \n",
            "                                                                 \n",
            " conv2d_7 (Conv2D)           (None, 83, 83, 64)        36928     \n",
            "                                                                 \n",
            " activation_8 (Activation)   (None, 83, 83, 64)        0         \n",
            "                                                                 \n",
            " batch_normalization_8 (Batc  (None, 83, 83, 64)       256       \n",
            " hNormalization)                                                 \n",
            "                                                                 \n",
            " max_pooling2d_4 (MaxPooling  (None, 41, 41, 64)       0         \n",
            " 2D)                                                             \n",
            "                                                                 \n",
            " dropout_5 (Dropout)         (None, 41, 41, 64)        0         \n",
            "                                                                 \n",
            " conv2d_8 (Conv2D)           (None, 41, 41, 128)       73856     \n",
            "                                                                 \n",
            " activation_9 (Activation)   (None, 41, 41, 128)       0         \n",
            "                                                                 \n",
            " batch_normalization_9 (Batc  (None, 41, 41, 128)      512       \n",
            " hNormalization)                                                 \n",
            "                                                                 \n",
            " conv2d_9 (Conv2D)           (None, 41, 41, 128)       147584    \n",
            "                                                                 \n",
            " activation_10 (Activation)  (None, 41, 41, 128)       0         \n",
            "                                                                 \n",
            " batch_normalization_10 (Bat  (None, 41, 41, 128)      512       \n",
            " chNormalization)                                                \n",
            "                                                                 \n",
            " max_pooling2d_5 (MaxPooling  (None, 20, 20, 128)      0         \n",
            " 2D)                                                             \n",
            "                                                                 \n",
            " dropout_6 (Dropout)         (None, 20, 20, 128)       0         \n",
            "                                                                 \n",
            " flatten_1 (Flatten)         (None, 51200)             0         \n",
            "                                                                 \n",
            " dense_1 (Dense)             (None, 1024)              52429824  \n",
            "                                                                 \n",
            " activation_11 (Activation)  (None, 1024)              0         \n",
            "                                                                 \n",
            " batch_normalization_11 (Bat  (None, 1024)             4096      \n",
            " chNormalization)                                                \n",
            "                                                                 \n",
            " dropout_7 (Dropout)         (None, 1024)              0         \n",
            "                                                                 \n",
            " dense_2 (Dense)             (None, 39)                39975     \n",
            "                                                                 \n",
            "=================================================================\n",
            "Total params: 52,753,319\n",
            "Trainable params: 52,750,439\n",
            "Non-trainable params: 2,880\n",
            "_________________________________________________________________\n"
          ]
        }
      ],
      "source": [
        "teacher.summary()"
      ]
    },
    {
      "cell_type": "code",
      "execution_count": null,
      "metadata": {
        "colab": {
          "base_uri": "https://localhost:8080/"
        },
        "id": "iAlCwUaIJ9wf",
        "outputId": "0f335a38-bd9c-40da-d0f5-a172afb2be34"
      },
      "outputs": [
        {
          "output_type": "stream",
          "name": "stdout",
          "text": [
            "['Tomato___healthy', 'Tomato___Early_blight', 'background', 'Corn_(maize)___Cercospora_leaf_spot Gray_leaf_spot', 'Tomato___Tomato_Yellow_Leaf_Curl_Virus', 'Tomato___Tomato_mosaic_virus', 'Apple___Black_rot', 'Potato___Late_blight', 'Blueberry___healthy', 'Corn_(maize)___Northern_Leaf_Blight', 'Peach___healthy', 'Grape___Leaf_blight_(Isariopsis_Leaf_Spot)', 'Apple___Apple_scab', 'Tomato___Leaf_Mold', 'Apple___healthy', 'Cherry_(including_sour)___healthy', 'Tomato___Target_Spot', 'Cherry_(including_sour)___Powdery_mildew', 'Soybean___healthy', 'Strawberry___Leaf_scorch', 'Strawberry___healthy', 'Apple___Cedar_apple_rust', 'Pepper,_bell___healthy', 'Grape___Black_rot', 'Tomato___Bacterial_spot', 'Potato___Early_blight', 'Orange___Haunglongbing_(Citrus_greening)', 'Tomato___Late_blight', 'Potato___healthy', 'Tomato___Septoria_leaf_spot', 'Peach___Bacterial_spot', 'Tomato___Spider_mites Two-spotted_spider_mite', 'Corn_(maize)___healthy', 'Corn_(maize)___Common_rust_', 'Squash___Powdery_mildew', 'Raspberry___healthy', 'Grape___Esca_(Black_Measles)', 'Pepper,_bell___Bacterial_spot', 'Grape___healthy']\n"
          ]
        }
      ],
      "source": [
        "print(os.listdir('/msoc/PlantVillage/train'))"
      ]
    },
    {
      "cell_type": "markdown",
      "metadata": {
        "id": "i1-EZCqg_th2"
      },
      "source": [
        "## Train the teacher\n",
        "\n",
        "In knowledge distillation we assume that the teacher is trained and fixed. Thus, we start\n",
        "by training the teacher model on the training set in the usual way."
      ]
    },
    {
      "cell_type": "code",
      "execution_count": null,
      "metadata": {
        "id": "zvLjuwTz_th3"
      },
      "outputs": [],
      "source": [
        "# Train teacher as usual\n",
        "teacher.compile(\n",
        "    optimizer=keras.optimizers.Adam(),\n",
        "    loss=keras.losses.CategoricalCrossentropy(from_logits=True),\n",
        "    metrics=['acc'],\n",
        ")\n"
      ]
    },
    {
      "cell_type": "code",
      "execution_count": null,
      "metadata": {
        "colab": {
          "base_uri": "https://localhost:8080/"
        },
        "id": "3HFaxRxy9FH0",
        "outputId": "25f741e9-0d47-428e-ebac-673f69589451"
      },
      "outputs": [
        {
          "output_type": "stream",
          "name": "stdout",
          "text": [
            "Epoch 1/10\n",
            "176/176 [==============================] - 287s 2s/step - loss: 0.7934 - acc: 0.7780 - val_loss: 11.1354 - val_acc: 0.0393\n",
            "Epoch 2/10\n",
            "176/176 [==============================] - 254s 1s/step - loss: 0.2772 - acc: 0.9136 - val_loss: 10.4615 - val_acc: 0.0815\n",
            "Epoch 3/10\n",
            "176/176 [==============================] - 256s 1s/step - loss: 0.1565 - acc: 0.9522 - val_loss: 4.0241 - val_acc: 0.3545\n",
            "Epoch 4/10\n",
            "176/176 [==============================] - 267s 2s/step - loss: 0.0926 - acc: 0.9711 - val_loss: 1.0349 - val_acc: 0.7830\n",
            "Epoch 5/10\n",
            "176/176 [==============================] - 256s 1s/step - loss: 0.0720 - acc: 0.9773 - val_loss: 0.3277 - val_acc: 0.9005\n",
            "Epoch 6/10\n",
            "176/176 [==============================] - 267s 2s/step - loss: 0.0450 - acc: 0.9859 - val_loss: 2.5274 - val_acc: 0.6583\n",
            "Epoch 7/10\n",
            "176/176 [==============================] - 256s 1s/step - loss: 0.0615 - acc: 0.9806 - val_loss: 0.2300 - val_acc: 0.9326\n",
            "Epoch 8/10\n",
            "176/176 [==============================] - 256s 1s/step - loss: 0.0377 - acc: 0.9884 - val_loss: 0.7606 - val_acc: 0.8080\n",
            "Epoch 9/10\n",
            "176/176 [==============================] - 256s 1s/step - loss: 0.0266 - acc: 0.9916 - val_loss: 0.3454 - val_acc: 0.9090\n",
            "Epoch 10/10\n",
            "176/176 [==============================] - 255s 1s/step - loss: 0.0237 - acc: 0.9931 - val_loss: 0.5274 - val_acc: 0.8769\n"
          ]
        }
      ],
      "source": [
        "teacher_history=teacher.fit(train_generator,steps_per_epoch=176,\n",
        "            validation_data=validation_generator,\n",
        "             epochs=10, validation_steps=44)\n"
      ]
    },
    {
      "cell_type": "code",
      "execution_count": null,
      "metadata": {
        "colab": {
          "base_uri": "https://localhost:8080/",
          "height": 562
        },
        "id": "rgkyk-XX8nBx",
        "outputId": "8f493266-52fc-42da-a72f-54ef27dc4a35"
      },
      "outputs": [
        {
          "name": "stdout",
          "output_type": "stream",
          "text": [
            "range(1, 6)\n"
          ]
        },
        {
          "data": {
            "image/png": "[encoded data removed]",
            "text/plain": [
              "<Figure size 432x288 with 1 Axes>"
            ]
          },
          "metadata": {},
          "output_type": "display_data"
        },
        {
          "data": {
            "image/png": "[encoded data removed]",
            "text/plain": [
              "<Figure size 432x288 with 1 Axes>"
            ]
          },
          "metadata": {},
          "output_type": "display_data"
        }
      ],
      "source": [
        "import matplotlib.pyplot as plt\n",
        "acc = teacher_history.history['acc']\n",
        "val_acc = teacher_history.history['val_acc']\n",
        "loss = teacher_history.history['loss']\n",
        "val_loss = teacher_history.history['val_loss']\n",
        "print(range(1, len(acc) + 1))\n",
        "\n",
        "epochs = range(1, len(acc) + 1)\n",
        "#Train and validation accuracy\n",
        "plt.plot(epochs, acc, 'b', label='Training accurarcy')\n",
        "plt.plot(epochs, val_acc, 'r', label='Validation accurarcy')\n",
        "plt.title('Training and Validation accurarcy')\n",
        "plt.legend()\n",
        "\n",
        "\n",
        "\n",
        "plt.figure()\n",
        "#Train and validation loss\n",
        "plt.plot(epochs, loss, 'b', label='Training loss')\n",
        "plt.plot(epochs, val_loss, 'r', label='Validation loss')\n",
        "plt.title('Training and Validation loss')\n",
        "plt.legend()\n",
        "plt.show()"
      ]
    },
    {
      "cell_type": "code",
      "execution_count": null,
      "metadata": {
        "colab": {
          "base_uri": "https://localhost:8080/"
        },
        "id": "Q5vlPY6k0sjf",
        "outputId": "e584b44c-31e7-4ba9-dcb8-da237768b748"
      },
      "outputs": [
        {
          "name": "stdout",
          "output_type": "stream",
          "text": [
            "[INFO] Saving model...\n",
            "INFO:tensorflow:Assets written to: ram://0da4707f-c5df-4bda-b7ed-70e59d29e222/assets\n"
          ]
        }
      ],
      "source": [
        "import pickle \n",
        "print(\"[INFO] Saving model...\")\n",
        "pickle.dump(teacher,open('/content/drive/MyDrive/Msoc/Teacher_model.pkl', 'wb'))"
      ]
    },
    {
      "cell_type": "code",
      "execution_count": null,
      "metadata": {
        "id": "2Ji7yUoY96v-",
        "colab": {
          "base_uri": "https://localhost:8080/"
        },
        "outputId": "42001d73-1df9-4606-c4ce-3646247790fb"
      },
      "outputs": [
        {
          "output_type": "stream",
          "name": "stdout",
          "text": [
            "INFO:tensorflow:Assets written to: /content/drive/MyDrive/Msoc/Teacher_model/assets\n"
          ]
        }
      ],
      "source": [
        "teacher.save('/content/drive/MyDrive/Msoc/Teacher_model')"
      ]
    },
    {
      "cell_type": "code",
      "source": [
        "converter = tf.lite.TFLiteConverter.from_saved_model('/content/drive/MyDrive/Msoc/Teacher_model') # path to the SavedModel directory\n",
        "Teacher_tflite_model = converter.convert()\n",
        "\n",
        "# Save the model.\n",
        "with open('/content/drive/MyDrive/Msoc/model.tflite', 'wb') as f:\n",
        "  f.write(Teacher_tflite_model)"
      ],
      "metadata": {
        "colab": {
          "base_uri": "https://localhost:8080/"
        },
        "id": "6LDxkJr-ThVh",
        "outputId": "3563c8b8-d2e6-4928-98ea-8c3bf50e30d1"
      },
      "execution_count": null,
      "outputs": [
        {
          "output_type": "stream",
          "name": "stderr",
          "text": [
            "WARNING:absl:Buffer deduplication procedure will be skipped when flatbuffer library is not properly loaded\n"
          ]
        }
      ]
    },
    {
      "cell_type": "code",
      "source": [
        "import numpy as np\n",
        "\n",
        "# Load the TFLite model and allocate tensors.\n",
        "interpreter = tf.lite.Interpreter(model_path='/content/model.tflite')\n",
        "interpreter.allocate_tensors()\n",
        "\n",
        "# Get input and output tensors.\n",
        "input_details = interpreter.get_input_details()\n",
        "output_details = interpreter.get_output_details()\n",
        "print(output_details)\n",
        "# Test the model on random input data.\n",
        "input_shape = input_details[0]['shape']\n",
        "input_data = np.array(np.random.random_sample(input_shape), dtype=np.float32)\n",
        "interpreter.set_tensor(input_details[0]['index'], input_data)\n",
        "\n",
        "interpreter.invoke()\n",
        "\n",
        "# The function `get_tensor()` returns a copy of the tensor data.\n",
        "# Use `tensor()` in order to get a pointer to the tensor.\n",
        "output_data = interpreter.get_tensor(output_details[0]['index'])\n",
        "print(output_data)"
      ],
      "metadata": {
        "colab": {
          "base_uri": "https://localhost:8080/"
        },
        "id": "oCjRUB0JZHpU",
        "outputId": "62edae13-80c7-46a7-b160-05d76895d29f"
      },
      "execution_count": null,
      "outputs": [
        {
          "output_type": "stream",
          "name": "stdout",
          "text": [
            "[{'name': 'StatefulPartitionedCall:0', 'index': 46, 'shape': array([ 1, 39], dtype=int32), 'shape_signature': array([-1, 39], dtype=int32), 'dtype': <class 'numpy.float32'>, 'quantization': (0.0, 0), 'quantization_parameters': {'scales': array([], dtype=float32), 'zero_points': array([], dtype=int32), 'quantized_dimension': 0}, 'sparsity_parameters': {}}]\n",
            "[[  2.0873563   -2.7428818    3.434671    -2.6104627   -1.9398451\n",
            "   -1.1396211    0.5834581    9.265304    -1.7548139    8.542576\n",
            "   13.819666    -6.457953    -0.35535896  -0.49823394   2.221366\n",
            "   -7.88183      2.7577302   -0.47831208 -13.813183    -2.3824034\n",
            "   -0.40080208  -4.3179355   -4.1108446   -1.1667194   15.367432\n",
            "    8.119192    -3.5071356   -0.1374922    4.443355    -4.50748\n",
            "    3.7178106   -2.9736228  -10.0996685   -0.805652    -4.5626903\n",
            "   -4.098029    -3.1691206   15.816592     2.1183858 ]]\n"
          ]
        }
      ]
    },
    {
      "cell_type": "markdown",
      "metadata": {
        "id": "ReFfsdnVMRhX"
      },
      "source": []
    },
    {
      "cell_type": "markdown",
      "metadata": {
        "id": "UllLuZzg_th4"
      },
      "source": [
        "## Distill teacher to student\n",
        "\n",
        "We have already trained the teacher model, and we only need to initialize a\n",
        "`Distiller(student, teacher)` instance, `compile()` it with the desired losses,\n",
        "hyperparameters and optimizer, and distill the teacher to the student."
      ]
    },
    {
      "cell_type": "code",
      "execution_count": null,
      "metadata": {
        "colab": {
          "background_save": true,
          "base_uri": "https://localhost:8080/"
        },
        "id": "KlGGhzlR_th5",
        "outputId": "4715bbe0-d955-4670-c07f-2bf9f414be25"
      },
      "outputs": [
        {
          "name": "stdout",
          "output_type": "stream",
          "text": [
            "177/177 [==============================] - 164s 912ms/step - acc: 0.6089 - student_loss: 1.5783 - distillation_loss: 0.0984 - val_acc: 0.7459 - val_student_loss: 2.2458\n"
          ]
        }
      ],
      "source": [
        "# Initialize and compile distiller\n",
        "distiller = Distiller(student=student, teacher=teacher)\n",
        "distiller.compile(\n",
        "    optimizer=keras.optimizers.Adam(),\n",
        "    metrics=['acc'],\n",
        "    student_loss_fn=keras.losses.CategoricalCrossentropy(from_logits=True),\n",
        "    distillation_loss_fn=keras.losses.KLDivergence(),\n",
        "    alpha=0.1,\n",
        "    temperature=10,\n",
        ")\n",
        "\n",
        "# Distill teacher to student\n",
        "student_history=distiller.fit(train_generator, epochs=1, validation_data=validation_generator)\n",
        "\n",
        "# Evaluate student on test dataset\n",
        "#std_history=distiller.evaluate(validation_generator)"
      ]
    },
    {
      "cell_type": "code",
      "execution_count": null,
      "metadata": {
        "colab": {
          "base_uri": "https://localhost:8080/",
          "height": 562
        },
        "id": "HOOKHDiY5WxB",
        "outputId": "989cd02d-922b-4607-b4a8-21bab9a62a05"
      },
      "outputs": [
        {
          "name": "stdout",
          "output_type": "stream",
          "text": [
            "range(1, 5)\n"
          ]
        },
        {
          "data": {
            "image/png": "[encoded data removed]",
            "text/plain": [
              "<Figure size 432x288 with 1 Axes>"
            ]
          },
          "metadata": {},
          "output_type": "display_data"
        },
        {
          "data": {
            "image/png": "[encoded data removed]",
            "text/plain": [
              "<Figure size 432x288 with 1 Axes>"
            ]
          },
          "metadata": {},
          "output_type": "display_data"
        }
      ],
      "source": [
        "import matplotlib.pyplot as plt\n",
        "acc = student_history.history['acc']\n",
        "val_acc = [0.91,0.97, 0.98, 0.98]\n",
        "loss = student_history.history['distillation_loss']\n",
        "val_loss = student_history.history['student_loss']\n",
        "print(range(1, len(acc) + 1))\n",
        "\n",
        "epochs = range(1, len(acc) + 1)\n",
        "#Train and validation accuracy\n",
        "plt.plot(epochs, acc, 'b', label='Training accurarcy')\n",
        "plt.plot(epochs, val_acc, 'r', label='Validation accurarcy')\n",
        "plt.title('Training and Validation accurarcy')\n",
        "plt.legend()\n",
        "\n",
        "\n",
        "\n",
        "plt.figure()\n",
        "#Train and validation loss\n",
        "plt.plot(epochs, loss, 'b', label='Training loss')\n",
        "plt.plot(epochs, val_loss, 'r', label='Validation loss')\n",
        "plt.title('Training and Validation loss')\n",
        "plt.legend()\n",
        "plt.show()"
      ]
    },
    {
      "cell_type": "code",
      "execution_count": null,
      "metadata": {
        "id": "fjk66LB2VdIZ"
      },
      "outputs": [],
      "source": []
    },
    {
      "cell_type": "code",
      "execution_count": null,
      "metadata": {
        "colab": {
          "base_uri": "https://localhost:8080/",
          "height": 454
        },
        "id": "eKdzmOINUF_x",
        "outputId": "d94b90b5-cf07-40c1-f76e-909fb68e1049"
      },
      "outputs": [
        {
          "name": "stdout",
          "output_type": "stream",
          "text": [
            "[INFO] Saving model...\n"
          ]
        },
        {
          "ename": "ValueError",
          "evalue": "ignored",
          "output_type": "error",
          "traceback": [
            "\u001b[0;31m---------------------------------------------------------------------------\u001b[0m",
            "\u001b[0;31mValueError\u001b[0m                                Traceback (most recent call last)",
            "\u001b[0;32m<ipython-input-26-b56fafe50400>\u001b[0m in \u001b[0;36m<module>\u001b[0;34m()\u001b[0m\n\u001b[1;32m      1\u001b[0m \u001b[0;32mimport\u001b[0m \u001b[0mpickle\u001b[0m\u001b[0;34m\u001b[0m\u001b[0;34m\u001b[0m\u001b[0m\n\u001b[1;32m      2\u001b[0m \u001b[0mprint\u001b[0m\u001b[0;34m(\u001b[0m\u001b[0;34m\"[INFO] Saving model...\"\u001b[0m\u001b[0;34m)\u001b[0m\u001b[0;34m\u001b[0m\u001b[0;34m\u001b[0m\u001b[0m\n\u001b[0;32m----> 3\u001b[0;31m \u001b[0mpickle\u001b[0m\u001b[0;34m.\u001b[0m\u001b[0mdump\u001b[0m\u001b[0;34m(\u001b[0m\u001b[0mdistiller\u001b[0m\u001b[0;34m,\u001b[0m\u001b[0mopen\u001b[0m\u001b[0;34m(\u001b[0m\u001b[0;34m'Student.pkl'\u001b[0m\u001b[0;34m,\u001b[0m \u001b[0;34m'wb'\u001b[0m\u001b[0;34m)\u001b[0m\u001b[0;34m)\u001b[0m\u001b[0;34m\u001b[0m\u001b[0;34m\u001b[0m\u001b[0m\n\u001b[0m",
            "\u001b[0;32m/usr/local/lib/python3.7/dist-packages/keras/engine/training.py\u001b[0m in \u001b[0;36m__reduce__\u001b[0;34m(self)\u001b[0m\n\u001b[1;32m    313\u001b[0m     \u001b[0;32mif\u001b[0m \u001b[0mself\u001b[0m\u001b[0;34m.\u001b[0m\u001b[0mbuilt\u001b[0m\u001b[0;34m:\u001b[0m\u001b[0;34m\u001b[0m\u001b[0;34m\u001b[0m\u001b[0m\n\u001b[1;32m    314\u001b[0m       return (pickle_utils.deserialize_model_from_bytecode,\n\u001b[0;32m--> 315\u001b[0;31m               pickle_utils.serialize_model_as_bytecode(self))\n\u001b[0m\u001b[1;32m    316\u001b[0m     \u001b[0;32melse\u001b[0m\u001b[0;34m:\u001b[0m\u001b[0;34m\u001b[0m\u001b[0;34m\u001b[0m\u001b[0m\n\u001b[1;32m    317\u001b[0m       \u001b[0;31m# SavedModel (and hence serialize_model_as_bytecode) only support\u001b[0m\u001b[0;34m\u001b[0m\u001b[0;34m\u001b[0m\u001b[0;34m\u001b[0m\u001b[0m\n",
            "\u001b[0;32m/usr/local/lib/python3.7/dist-packages/keras/saving/pickle_utils.py\u001b[0m in \u001b[0;36mserialize_model_as_bytecode\u001b[0;34m(model)\u001b[0m\n\u001b[1;32m     62\u001b[0m   \"\"\"\n\u001b[1;32m     63\u001b[0m   \u001b[0mtemp_dir\u001b[0m \u001b[0;34m=\u001b[0m \u001b[0;34mf\"ram://{uuid.uuid4()}\"\u001b[0m\u001b[0;34m\u001b[0m\u001b[0;34m\u001b[0m\u001b[0m\n\u001b[0;32m---> 64\u001b[0;31m   \u001b[0mmodel\u001b[0m\u001b[0;34m.\u001b[0m\u001b[0msave\u001b[0m\u001b[0;34m(\u001b[0m\u001b[0mtemp_dir\u001b[0m\u001b[0;34m)\u001b[0m\u001b[0;34m\u001b[0m\u001b[0;34m\u001b[0m\u001b[0m\n\u001b[0m\u001b[1;32m     65\u001b[0m   \u001b[0mb\u001b[0m \u001b[0;34m=\u001b[0m \u001b[0mio\u001b[0m\u001b[0;34m.\u001b[0m\u001b[0mBytesIO\u001b[0m\u001b[0;34m(\u001b[0m\u001b[0;34m)\u001b[0m\u001b[0;34m\u001b[0m\u001b[0;34m\u001b[0m\u001b[0m\n\u001b[1;32m     66\u001b[0m   \u001b[0;32mwith\u001b[0m \u001b[0mtarfile\u001b[0m\u001b[0;34m.\u001b[0m\u001b[0mopen\u001b[0m\u001b[0;34m(\u001b[0m\u001b[0mfileobj\u001b[0m\u001b[0;34m=\u001b[0m\u001b[0mb\u001b[0m\u001b[0;34m,\u001b[0m \u001b[0mmode\u001b[0m\u001b[0;34m=\u001b[0m\u001b[0;34m\"w\"\u001b[0m\u001b[0;34m)\u001b[0m \u001b[0;32mas\u001b[0m \u001b[0marchive\u001b[0m\u001b[0;34m:\u001b[0m\u001b[0;34m\u001b[0m\u001b[0;34m\u001b[0m\u001b[0m\n",
            "\u001b[0;32m/usr/local/lib/python3.7/dist-packages/keras/utils/traceback_utils.py\u001b[0m in \u001b[0;36merror_handler\u001b[0;34m(*args, **kwargs)\u001b[0m\n\u001b[1;32m     65\u001b[0m     \u001b[0;32mexcept\u001b[0m \u001b[0mException\u001b[0m \u001b[0;32mas\u001b[0m \u001b[0me\u001b[0m\u001b[0;34m:\u001b[0m  \u001b[0;31m# pylint: disable=broad-except\u001b[0m\u001b[0;34m\u001b[0m\u001b[0;34m\u001b[0m\u001b[0m\n\u001b[1;32m     66\u001b[0m       \u001b[0mfiltered_tb\u001b[0m \u001b[0;34m=\u001b[0m \u001b[0m_process_traceback_frames\u001b[0m\u001b[0;34m(\u001b[0m\u001b[0me\u001b[0m\u001b[0;34m.\u001b[0m\u001b[0m__traceback__\u001b[0m\u001b[0;34m)\u001b[0m\u001b[0;34m\u001b[0m\u001b[0;34m\u001b[0m\u001b[0m\n\u001b[0;32m---> 67\u001b[0;31m       \u001b[0;32mraise\u001b[0m \u001b[0me\u001b[0m\u001b[0;34m.\u001b[0m\u001b[0mwith_traceback\u001b[0m\u001b[0;34m(\u001b[0m\u001b[0mfiltered_tb\u001b[0m\u001b[0;34m)\u001b[0m \u001b[0;32mfrom\u001b[0m \u001b[0;32mNone\u001b[0m\u001b[0;34m\u001b[0m\u001b[0;34m\u001b[0m\u001b[0m\n\u001b[0m\u001b[1;32m     68\u001b[0m     \u001b[0;32mfinally\u001b[0m\u001b[0;34m:\u001b[0m\u001b[0;34m\u001b[0m\u001b[0;34m\u001b[0m\u001b[0m\n\u001b[1;32m     69\u001b[0m       \u001b[0;32mdel\u001b[0m \u001b[0mfiltered_tb\u001b[0m\u001b[0;34m\u001b[0m\u001b[0;34m\u001b[0m\u001b[0m\n",
            "\u001b[0;32m/usr/local/lib/python3.7/dist-packages/keras/saving/saving_utils.py\u001b[0m in \u001b[0;36mraise_model_input_error\u001b[0;34m(model)\u001b[0m\n\u001b[1;32m     92\u001b[0m   \u001b[0;31m# If the model is not a `Sequential`, it is intended to be a subclassed model.\u001b[0m\u001b[0;34m\u001b[0m\u001b[0;34m\u001b[0m\u001b[0;34m\u001b[0m\u001b[0m\n\u001b[1;32m     93\u001b[0m   raise ValueError(\n\u001b[0;32m---> 94\u001b[0;31m       \u001b[0;34mf'Model {model} cannot be saved either because the input shape is not '\u001b[0m\u001b[0;34m\u001b[0m\u001b[0;34m\u001b[0m\u001b[0m\n\u001b[0m\u001b[1;32m     95\u001b[0m       \u001b[0;34m'available or because the forward pass of the model is not defined.'\u001b[0m\u001b[0;34m\u001b[0m\u001b[0;34m\u001b[0m\u001b[0m\n\u001b[1;32m     96\u001b[0m       \u001b[0;34m'To define a forward pass, please override `Model.call()`. To specify '\u001b[0m\u001b[0;34m\u001b[0m\u001b[0;34m\u001b[0m\u001b[0m\n",
            "\u001b[0;31mValueError\u001b[0m: Model <__main__.Distiller object at 0x7f7ebce64e90> cannot be saved either because the input shape is not available or because the forward pass of the model is not defined.To define a forward pass, please override `Model.call()`. To specify an input shape, either call `build(input_shape)` directly, or call the model on actual data using `Model()`, `Model.fit()`, or `Model.predict()`. If you have a custom training step, please make sure to invoke the forward pass in train step through `Model.__call__`, i.e. `model(inputs)`, as opposed to `model.call()`."
          ]
        }
      ],
      "source": [
        "import pickle \n",
        "print(\"[INFO] Saving model...\")\n",
        "pickle.dump(distiller,open('Student.pkl', 'wb'))"
      ]
    },
    {
      "cell_type": "markdown",
      "metadata": {
        "id": "-yry13lQ_th5"
      },
      "source": [
        "## Train student from scratch for comparison\n",
        "\n",
        "We can also train an equivalent student model from scratch without the teacher, in order\n",
        "to evaluate the performance gain obtained by knowledge distillation."
      ]
    },
    {
      "cell_type": "code",
      "execution_count": null,
      "metadata": {
        "colab": {
          "base_uri": "https://localhost:8080/"
        },
        "id": "4cge2ZSR_th5",
        "outputId": "e0c0685e-5040-4be5-a4fd-73e2d30d53d1"
      },
      "outputs": [
        {
          "name": "stdout",
          "output_type": "stream",
          "text": [
            "177/177 [==============================] - 131s 738ms/step - loss: 0.5822 - acc: 0.8291\n",
            "45/45 [==============================] - 27s 595ms/step - loss: 0.5070 - acc: 0.8442\n"
          ]
        }
      ],
      "source": [
        "# Train student as doen usually\n",
        "student_scratch.compile(\n",
        "    optimizer=keras.optimizers.Adam(),\n",
        "    loss=keras.losses.CategoricalCrossentropy(from_logits=True),\n",
        "    metrics=['acc'],\n",
        ")\n",
        "\n",
        "# Train and evaluate student trained from scratch.\n",
        "student_scratch.fit(train_generator, epochs=1)\n",
        "std_history=student_scratch.evaluate(validation_generator)"
      ]
    },
    {
      "cell_type": "code",
      "execution_count": null,
      "metadata": {
        "colab": {
          "base_uri": "https://localhost:8080/"
        },
        "id": "Tk9jM4pzkDbb",
        "outputId": "7448d5c8-b450-41ac-e840-a1fbe8873439"
      },
      "outputs": [
        {
          "name": "stdout",
          "output_type": "stream",
          "text": [
            "[INFO] Saving model...\n",
            "INFO:tensorflow:Assets written to: ram://d2b76bb3-cfb1-4a0d-8b63-3493b6211b5b/assets\n"
          ]
        }
      ],
      "source": [
        "# save the model to disk\n",
        "import pickle \n",
        "print(\"[INFO] Saving model...\")\n",
        "pickle.dump(student_scratch,open('Student_model.pkl', 'wb'))"
      ]
    },
    {
      "cell_type": "code",
      "execution_count": null,
      "metadata": {
        "id": "Z2xCUUp8ZKka"
      },
      "outputs": [],
      "source": [
        "/content/Teacher.pkl"
      ]
    },
    {
      "cell_type": "markdown",
      "metadata": {
        "id": "X25SiyGt_th6"
      },
      "source": [
        "If the teacher is trained for 5 full epochs and the student is distilled on this teacher\n",
        "for 3 full epochs, you should in this example experience a performance boost compared to\n",
        "training the same student model from scratch, and even compared to the teacher itself.\n",
        "You should expect the teacher to have accuracy around 97.6%, the student trained from\n",
        "scratch should be around 97.6%, and the distilled student should be around 98.1%. Remove\n",
        "or try out different seeds to use different weight initializations."
      ]
    }
  ],
  "metadata": {
    "accelerator": "GPU",
    "colab": {
      "provenance": [],
      "include_colab_link": true
    },
    "kernelspec": {
      "display_name": "Python 3",
      "language": "python",
      "name": "python3"
    },
    "language_info": {
      "codemirror_mode": {
        "name": "ipython",
        "version": 3
      },
      "file_extension": ".py",
      "mimetype": "text/x-python",
      "name": "python",
      "nbconvert_exporter": "python",
      "pygments_lexer": "ipython3",
      "version": "3.7.0"
    }
  },
  "nbformat": 4,
  "nbformat_minor": 0
}